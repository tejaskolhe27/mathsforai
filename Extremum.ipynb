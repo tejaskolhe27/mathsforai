{
 "cells": [
  {
   "cell_type": "code",
   "execution_count": 1,
   "id": "ede81047",
   "metadata": {},
   "outputs": [],
   "source": [
    "import numpy as np\n",
    "import sympy as sp\n",
    "from sympy import *\n",
    "from sympy.abc import *\n",
    "from sympy.solvers import solve"
   ]
  },
  {
   "cell_type": "markdown",
   "id": "ed60984a",
   "metadata": {},
   "source": [
    "## EXTREMUM"
   ]
  },
  {
   "cell_type": "code",
   "execution_count": 2,
   "id": "81259360",
   "metadata": {},
   "outputs": [
    {
     "name": "stdout",
     "output_type": "stream",
     "text": [
      "Expression is: \n",
      " 3      2       \n",
      "x  - 9⋅x  + 24⋅x\n",
      "Derivative of the eq is: \n",
      "   2            \n",
      "3⋅x  - 18⋅x + 24\n"
     ]
    }
   ],
   "source": [
    "expression=x**3-9*x**2+24*x\n",
    "result=diff(expression,x)\n",
    "print(\"Expression is: \")\n",
    "pprint(expression)\n",
    "print(\"Derivative of the eq is: \")\n",
    "pprint(result)\n"
   ]
  },
  {
   "cell_type": "code",
   "execution_count": 3,
   "id": "d0e13768",
   "metadata": {},
   "outputs": [
    {
     "name": "stdout",
     "output_type": "stream",
     "text": [
      "Expression is: \n",
      " 3      2       \n",
      "x  - 9⋅x  + 24⋅x\n",
      "Double Derivative of the eq is: \n",
      "6⋅x - 18\n"
     ]
    }
   ],
   "source": [
    "expression=x**3-9*x**2+24*x\n",
    "result1=diff(diff(expression,x))\n",
    "print(\"Expression is: \")\n",
    "pprint(expression)\n",
    "print(\"Double Derivative of the eq is: \")\n",
    "pprint(result1)\n"
   ]
  },
  {
   "cell_type": "code",
   "execution_count": 4,
   "id": "8b72c3ca",
   "metadata": {},
   "outputs": [
    {
     "name": "stdout",
     "output_type": "stream",
     "text": [
      "Extremum at: [2, 4]\n",
      "Solution at x=2:  20\n",
      "Solution at x=4:  16\n"
     ]
    }
   ],
   "source": [
    "sol = solve(result, x)\n",
    "print(\"Extremum at:\",sol)\n",
    "sol\n",
    "print(f\"Solution at x={sol[0]}: \", expression.subs([(x,sol[0])]))\n",
    "print(f\"Solution at x={sol[1]}: \", expression.subs([(x,sol[1])]))"
   ]
  },
  {
   "cell_type": "code",
   "execution_count": 5,
   "id": "2dc1863e",
   "metadata": {},
   "outputs": [
    {
     "name": "stdout",
     "output_type": "stream",
     "text": [
      "Extremmum at [-1, 0, 1]\n",
      "minima at -1 min Value =  2\n",
      "maxima at 0 max Value =  3\n",
      "minima at 1 min Value =  2\n"
     ]
    }
   ],
   "source": [
    "exp = x**4-2*x**2+3\n",
    "d1=(diff(exp,x))\n",
    "soln=solve(d1,x)\n",
    "print(\"Extremmum at\",soln)\n",
    "d2 = diff(d1,x)\n",
    "for i in soln:\n",
    "    if d2.subs([(x,i)])>0:\n",
    "        print(\"minima at\",i,\"min Value = \",exp.subs([(x,i)]))\n",
    "    elif d2.subs([(x,i)])<0:\n",
    "        print(\"maxima at\",i,\"max Value = \",exp.subs([(x,i)]))\n",
    "    else:\n",
    "        print(\"No Extrimum\")"
   ]
  },
  {
   "cell_type": "code",
   "execution_count": 6,
   "id": "6d5356ae",
   "metadata": {},
   "outputs": [
    {
     "name": "stdout",
     "output_type": "stream",
     "text": [
      "Expression is: \n",
      "x⋅log(x⋅y)\n",
      "Double Derivative of the eq is: \n",
      "log(x⋅y) + 1\n"
     ]
    }
   ],
   "source": [
    "expression=x*log(x*y)\n",
    "result1=diff(expression,x)\n",
    "print(\"Expression is: \")\n",
    "pprint(expression)\n",
    "print(\"Double Derivative of the eq is: \")\n",
    "pprint(result1)\n"
   ]
  },
  {
   "cell_type": "code",
   "execution_count": 13,
   "id": "4f27287f",
   "metadata": {},
   "outputs": [
    {
     "name": "stdout",
     "output_type": "stream",
     "text": [
      "0\n",
      "\n",
      "1\n"
     ]
    }
   ],
   "source": [
    "y=var('y');\n",
    "f=x*y\n",
    "fx=diff(f,x)\n",
    "fxx=diff(fx,x)\n",
    "fxy=diff(fx,y)\n",
    "pprint(fxx)\n",
    "print()\n",
    "pprint(fxy)"
   ]
  },
  {
   "cell_type": "code",
   "execution_count": null,
   "id": "78b0d5d3",
   "metadata": {},
   "outputs": [],
   "source": []
  }
 ],
 "metadata": {
  "kernelspec": {
   "display_name": "Python 3 (ipykernel)",
   "language": "python",
   "name": "python3"
  },
  "language_info": {
   "codemirror_mode": {
    "name": "ipython",
    "version": 3
   },
   "file_extension": ".py",
   "mimetype": "text/x-python",
   "name": "python",
   "nbconvert_exporter": "python",
   "pygments_lexer": "ipython3",
   "version": "3.11.4"
  }
 },
 "nbformat": 4,
 "nbformat_minor": 5
}
