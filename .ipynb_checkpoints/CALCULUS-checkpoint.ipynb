{
 "cells": [
  {
   "cell_type": "code",
   "execution_count": 2,
   "id": "30b269fd",
   "metadata": {},
   "outputs": [],
   "source": [
    "import numpy as np\n",
    "import sympy as sp\n",
    "from sympy import *\n",
    "from sympy.abc import x,t,a,b,c\n"
   ]
  },
  {
   "cell_type": "markdown",
   "id": "b69a9524",
   "metadata": {},
   "source": [
    "## LIMITS"
   ]
  },
  {
   "cell_type": "code",
   "execution_count": 3,
   "id": "8e6aebab",
   "metadata": {},
   "outputs": [
    {
     "name": "stdout",
     "output_type": "stream",
     "text": [
      "Expression is: \n",
      " 2         \n",
      "x  + x - 12\n",
      "───────────\n",
      "   x - 3   \n",
      "Limit at x->3 is:  7\n"
     ]
    }
   ],
   "source": [
    "expression= ((x**2)+x-12)/(x-3)\n",
    "result= limit(expression,x,3)\n",
    "print(\"Expression is: \")\n",
    "pprint(expression)\n",
    "print(\"Limit at x->3 is: \",result)"
   ]
  },
  {
   "cell_type": "code",
   "execution_count": 7,
   "id": "e800c39d",
   "metadata": {},
   "outputs": [
    {
     "name": "stdout",
     "output_type": "stream",
     "text": [
      "Expression is: \n",
      "  _______    \n",
      "╲╱ x + 8  - 3\n",
      "─────────────\n",
      "    x - 1    \n",
      "Limit at x->1 is:  1/6\n"
     ]
    }
   ],
   "source": [
    "expression= ((sqrt(x+8)-3))/(x-1)\n",
    "result= limit(expression,x,1)\n",
    "print(\"Expression is: \")\n",
    "pprint(expression)\n",
    "print(\"Limit at x->1 is: \",result)"
   ]
  },
  {
   "cell_type": "code",
   "execution_count": 10,
   "id": "e6df9070",
   "metadata": {},
   "outputs": [
    {
     "name": "stdout",
     "output_type": "stream",
     "text": [
      "Expression is: \n",
      "     2      \n",
      "- 5⋅x  + 4⋅x\n",
      "────────────\n",
      "   x - 1    \n",
      "Limit at x->0 is:  0\n"
     ]
    }
   ],
   "source": [
    "expression= (4*x-5*x**2)/(x-1)\n",
    "result= limit(expression,x,0)\n",
    "print(\"Expression is: \")\n",
    "pprint(expression)\n",
    "print(\"Limit at x->0 is: \",result)"
   ]
  },
  {
   "cell_type": "markdown",
   "id": "75c55374",
   "metadata": {},
   "source": [
    "## DERIVATIVE"
   ]
  },
  {
   "cell_type": "code",
   "execution_count": 16,
   "id": "05bce23f",
   "metadata": {},
   "outputs": [
    {
     "name": "stdout",
     "output_type": "stream",
     "text": [
      "Expression is: \n",
      " 3\n",
      "x \n",
      "Derivative of the eq is: \n",
      "   2\n",
      "3⋅x \n"
     ]
    }
   ],
   "source": [
    "expression=x**3\n",
    "result=diff(expression,x)\n",
    "print(\"Expression is: \")\n",
    "pprint(expression)\n",
    "print(\"Derivative of the eq is: \")\n",
    "pprint(result)"
   ]
  },
  {
   "cell_type": "code",
   "execution_count": 17,
   "id": "15dcc1d4",
   "metadata": {
    "scrolled": true
   },
   "outputs": [
    {
     "name": "stdout",
     "output_type": "stream",
     "text": [
      "Expression is: \n",
      "   __________\n",
      "  ╱        2 \n",
      "╲╱  169 - x  \n",
      "Derivative of the eq is: \n",
      "     -x      \n",
      "─────────────\n",
      "   __________\n",
      "  ╱        2 \n",
      "╲╱  169 - x  \n"
     ]
    }
   ],
   "source": [
    "expression=sqrt(169 - x**2)\n",
    "result=diff(expression,x)\n",
    "print(\"Expression is: \")\n",
    "pprint(expression)\n",
    "print()\n",
    "print(\"Derivative of the eq is: \")\n",
    "pprint(result)"
   ]
  },
  {
   "cell_type": "code",
   "execution_count": 19,
   "id": "04c7be6f",
   "metadata": {},
   "outputs": [
    {
     "name": "stdout",
     "output_type": "stream",
     "text": [
      "Expression is: \n",
      "       2     \n",
      "- 4.9⋅t  - 80\n",
      "Derivative of the eq is: \n",
      "-9.8⋅t\n"
     ]
    }
   ],
   "source": [
    "expression=(-80 - 4.9*t**2)\n",
    "result=diff(expression,t)\n",
    "print(\"Expression is: \")\n",
    "pprint(expression)\n",
    "print(\"Derivative of the eq is: \")\n",
    "pprint(result)"
   ]
  },
  {
   "cell_type": "code",
   "execution_count": 34,
   "id": "f8fafb92",
   "metadata": {},
   "outputs": [
    {
     "name": "stdout",
     "output_type": "stream",
     "text": [
      "Expression is: \n",
      " 2   1\n",
      "x  - ─\n",
      "     x\n",
      "Derivative of the eq is: \n",
      "      1 \n",
      "2⋅x + ──\n",
      "       2\n",
      "      x \n"
     ]
    }
   ],
   "source": [
    "expression=x**2-(1/x)\n",
    "result=diff(expression,x)\n",
    "print(\"Expression is: \")\n",
    "pprint(expression)\n",
    "print(\"Derivative of the eq is: \")\n",
    "pprint(result)"
   ]
  },
  {
   "cell_type": "code",
   "execution_count": 37,
   "id": "9fcae2d6",
   "metadata": {},
   "outputs": [
    {
     "name": "stdout",
     "output_type": "stream",
     "text": [
      "Expression is: \n",
      " 3         \n",
      "x  + sin(x)\n",
      "Derivative of the eq is: \n",
      "   2         \n",
      "3⋅x  + cos(x)\n"
     ]
    }
   ],
   "source": [
    "expression=x**3 +(sin(x))\n",
    "result=diff(expression,x)\n",
    "print(\"Expression is: \")\n",
    "pprint(expression)\n",
    "print(\"Derivative of the eq is: \")\n",
    "pprint(result)"
   ]
  },
  {
   "cell_type": "code",
   "execution_count": 35,
   "id": "7aa4d70e",
   "metadata": {},
   "outputs": [
    {
     "name": "stdout",
     "output_type": "stream",
     "text": [
      "Expression is: \n",
      "   2  \n",
      "  x   \n",
      "──────\n",
      "log(x)\n",
      "Derivative of the eq is: \n",
      " 2⋅x        x   \n",
      "────── - ───────\n",
      "log(x)      2   \n",
      "         log (x)\n"
     ]
    }
   ],
   "source": [
    "expression=x**2/log(x)\n",
    "result=diff(expression,x)\n",
    "print(\"Expression is: \")\n",
    "pprint(expression)\n",
    "print(\"Derivative of the eq is: \")\n",
    "pprint(result)"
   ]
  },
  {
   "cell_type": "code",
   "execution_count": 30,
   "id": "7a1a3b9a",
   "metadata": {},
   "outputs": [
    {
     "name": "stdout",
     "output_type": "stream",
     "text": [
      "Expression is: \n",
      " 3 ⎛ 2           ⎞\n",
      "x ⋅⎝x  - 5⋅x + 10⎠\n",
      "Derivative of the eq is: \n",
      " 3                2 ⎛ 2           ⎞\n",
      "x ⋅(2⋅x - 5) + 3⋅x ⋅⎝x  - 5⋅x + 10⎠\n"
     ]
    }
   ],
   "source": [
    "u=x**3\n",
    "v=x**2-5*x+10\n",
    "expression=u*v\n",
    "result=diff(expression,x)\n",
    "print(\"Expression is: \")\n",
    "pprint(expression)\n",
    "print(\"Derivative of the eq is: \")\n",
    "pprint(result)"
   ]
  },
  {
   "cell_type": "code",
   "execution_count": 38,
   "id": "af2a8be9",
   "metadata": {},
   "outputs": [
    {
     "name": "stdout",
     "output_type": "stream",
     "text": [
      "Expression is: \n",
      "⎛ 2          ⎞ ⎛ 5      3      2          ⎞\n",
      "⎝x  + 5⋅x - 3⎠⋅⎝x  - 6⋅x  + 3⋅x  - 7⋅x + 1⎠\n",
      "Derivative of the eq is: \n",
      "          ⎛ 5      3      2          ⎞   ⎛ 2          ⎞ ⎛   4       2         \n",
      "(2⋅x + 5)⋅⎝x  - 6⋅x  + 3⋅x  - 7⋅x + 1⎠ + ⎝x  + 5⋅x - 3⎠⋅⎝5⋅x  - 18⋅x  + 6⋅x - \n",
      "\n",
      " ⎞\n",
      "7⎠\n"
     ]
    }
   ],
   "source": [
    "u=x**2+5*x-3\n",
    "v=x**5-6*x**3+3*x**2-7*x+1\n",
    "expression=u*v\n",
    "result=diff(expression,x)\n",
    "print(\"Expression is: \")\n",
    "pprint(expression)\n",
    "print(\"Derivative of the eq is: \")\n",
    "pprint(result)"
   ]
  },
  {
   "cell_type": "code",
   "execution_count": 39,
   "id": "1515afdc",
   "metadata": {},
   "outputs": [
    {
     "name": "stdout",
     "output_type": "stream",
     "text": [
      "Expression is: \n",
      "       3     \n",
      "      x      \n",
      "─────────────\n",
      " 3           \n",
      "x  - 5⋅x + 10\n",
      "Derivative of the eq is: \n",
      "  3 ⎛       2⎞             2    \n",
      " x ⋅⎝5 - 3⋅x ⎠          3⋅x     \n",
      "──────────────── + ─────────────\n",
      "               2    3           \n",
      "⎛ 3           ⎞    x  - 5⋅x + 10\n",
      "⎝x  - 5⋅x + 10⎠                 \n"
     ]
    }
   ],
   "source": [
    "u=x**3\n",
    "v=x**3-5*x+10\n",
    "expression=u/v\n",
    "result=diff(expression,x)\n",
    "print(\"Expression is: \")\n",
    "pprint(expression)\n",
    "print(\"Derivative of the eq is: \")\n",
    "pprint(result)"
   ]
  },
  {
   "cell_type": "code",
   "execution_count": 43,
   "id": "fb9ba3b5",
   "metadata": {},
   "outputs": [
    {
     "name": "stdout",
     "output_type": "stream",
     "text": [
      "Expression is: \n",
      "        2                 \n",
      "       x  + 5⋅x - 3       \n",
      "──────────────────────────\n",
      " 5      3      2          \n",
      "x  - 6⋅x  + 3⋅x  - 7⋅x + 1\n",
      "Derivative of the eq is: \n",
      "                             ⎛ 2          ⎞ ⎛     4       2          ⎞\n",
      "         2⋅x + 5             ⎝x  + 5⋅x - 3⎠⋅⎝- 5⋅x  + 18⋅x  - 6⋅x + 7⎠\n",
      "────────────────────────── + ─────────────────────────────────────────\n",
      " 5      3      2                                               2      \n",
      "x  - 6⋅x  + 3⋅x  - 7⋅x + 1         ⎛ 5      3      2          ⎞       \n",
      "                                   ⎝x  - 6⋅x  + 3⋅x  - 7⋅x + 1⎠       \n"
     ]
    }
   ],
   "source": [
    "u=x**2+5*x-3\n",
    "v=x**5-6*x**3+3*x**2-7*x+1\n",
    "expression=u/v\n",
    "result=diff(expression,x)\n",
    "print(\"Expression is: \")\n",
    "pprint(expression)\n",
    "print(\"Derivative of the eq is: \")\n",
    "pprint(result)"
   ]
  },
  {
   "cell_type": "code",
   "execution_count": 45,
   "id": "60eb7c6d",
   "metadata": {},
   "outputs": [
    {
     "name": "stdout",
     "output_type": "stream",
     "text": [
      "Expression is: \n",
      "      √x     \n",
      "─────────────\n",
      "   __________\n",
      "  ╱        2 \n",
      "╲╱  625 - x  \n",
      "Derivative of the eq is: \n",
      "\n",
      "      3/2                         \n",
      "     x                  1         \n",
      "───────────── + ──────────────────\n",
      "          3/2           __________\n",
      "⎛       2⎞             ╱        2 \n",
      "⎝625 - x ⎠      2⋅√x⋅╲╱  625 - x  \n"
     ]
    }
   ],
   "source": [
    "u=sqrt(x)\n",
    "v=sqrt(625-x**2)\n",
    "expression=u/v\n",
    "result=diff(expression,x)\n",
    "print(\"Expression is: \")\n",
    "pprint(expression)\n",
    "print(\"Derivative of the eq is: \")\n",
    "print()\n",
    "pprint(result)"
   ]
  },
  {
   "cell_type": "code",
   "execution_count": 47,
   "id": "644e044a",
   "metadata": {},
   "outputs": [
    {
     "name": "stdout",
     "output_type": "stream",
     "text": [
      "Expression is: \n",
      "   ________\n",
      "3 ╱  3     \n",
      "╲╱  x  + x \n",
      "Derivative of the eq is: \n",
      "\n",
      "    2   1  \n",
      "   x  + ─  \n",
      "        3  \n",
      "───────────\n",
      "        2/3\n",
      "⎛ 3    ⎞   \n",
      "⎝x  + x⎠   \n"
     ]
    }
   ],
   "source": [
    "expression=cbrt(x+x**3)\n",
    "result=diff(expression,x)\n",
    "print(\"Expression is: \")\n",
    "pprint(expression)\n",
    "print(\"Derivative of the eq is: \")\n",
    "print()\n",
    "pprint(result)"
   ]
  },
  {
   "cell_type": "code",
   "execution_count": 48,
   "id": "e074b31e",
   "metadata": {},
   "outputs": [
    {
     "name": "stdout",
     "output_type": "stream",
     "text": [
      "Expression is: \n",
      "    __________\n",
      "   ╱      169 \n",
      "  ╱  -x + ─── \n",
      "╲╱         x  \n",
      "Derivative of the eq is: \n",
      "\n",
      "    1   169   \n",
      "  - ─ - ────  \n",
      "    2      2  \n",
      "        2⋅x   \n",
      "──────────────\n",
      "    __________\n",
      "   ╱      169 \n",
      "  ╱  -x + ─── \n",
      "╲╱         x  \n"
     ]
    }
   ],
   "source": [
    "expression=sqrt((169/x)-x)\n",
    "result=diff(expression,x)\n",
    "print(\"Expression is: \")\n",
    "pprint(expression)\n",
    "print(\"Derivative of the eq is: \")\n",
    "print()\n",
    "pprint(result)"
   ]
  },
  {
   "cell_type": "code",
   "execution_count": 49,
   "id": "4597fd1a",
   "metadata": {},
   "outputs": [
    {
     "name": "stdout",
     "output_type": "stream",
     "text": [
      "Expression is: \n",
      "sin(x)\n",
      "Derivative of the eq is: \n",
      "cos(x)\n"
     ]
    }
   ],
   "source": [
    "expression=(sin(x))\n",
    "result=diff(expression,x)\n",
    "print(\"Expression is: \")\n",
    "pprint(expression)\n",
    "print(\"Derivative of the eq is: \")\n",
    "pprint(result)"
   ]
  },
  {
   "cell_type": "code",
   "execution_count": 59,
   "id": "53e85e22",
   "metadata": {},
   "outputs": [
    {
     "name": "stdout",
     "output_type": "stream",
     "text": [
      "Expression is: \n",
      " -x       \n",
      "ℯ  ⋅sin(x)\n",
      "Derivative of the eq is: \n",
      "   -x           -x       \n",
      "- ℯ  ⋅sin(x) + ℯ  ⋅cos(x)\n"
     ]
    }
   ],
   "source": [
    "expression=(sin(x)/exp(x))\n",
    "result=diff(expression,x)\n",
    "print(\"Expression is: \")\n",
    "pprint(expression)\n",
    "print(\"Derivative of the eq is: \")\n",
    "pprint(result)"
   ]
  },
  {
   "cell_type": "code",
   "execution_count": 62,
   "id": "3c0f1fa6",
   "metadata": {},
   "outputs": [
    {
     "name": "stdout",
     "output_type": "stream",
     "text": [
      "Expression is: \n",
      " 3  x\n",
      "x ⋅ℯ \n",
      "Derivative of the eq is: \n",
      " 3  x      2  x\n",
      "x ⋅ℯ  + 3⋅x ⋅ℯ \n"
     ]
    }
   ],
   "source": [
    "expression=(x**3*exp(x))\n",
    "result=diff(expression,x)\n",
    "print(\"Expression is: \")\n",
    "pprint(expression)\n",
    "print(\"Derivative of the eq is: \")\n",
    "pprint(result)"
   ]
  },
  {
   "cell_type": "code",
   "execution_count": 4,
   "id": "57c0e3fb",
   "metadata": {},
   "outputs": [
    {
     "name": "stdout",
     "output_type": "stream",
     "text": [
      "Expression is: \n",
      " 2⋅x\n",
      "ℯ   \n",
      "Derivative of the eq is: \n",
      "   2⋅x\n",
      "2⋅ℯ   \n"
     ]
    }
   ],
   "source": [
    "expression=(exp(x)**2)\n",
    "result=diff(expression,x)\n",
    "print(\"Expression is: \")\n",
    "pprint(expression)\n",
    "print(\"Derivative of the eq is: \")\n",
    "pprint(result)"
   ]
  },
  {
   "cell_type": "markdown",
   "id": "7f78411f",
   "metadata": {},
   "source": [
    "## INTEGRATION"
   ]
  },
  {
   "cell_type": "code",
   "execution_count": 51,
   "id": "f98a626b",
   "metadata": {},
   "outputs": [
    {
     "name": "stdout",
     "output_type": "stream",
     "text": [
      "Expression is: \n",
      "   2          \n",
      "a⋅x  + b⋅x + c\n",
      "Integration of the eq is: \n",
      "   3      2      \n",
      "a⋅x    b⋅x       \n",
      "──── + ──── + c⋅x\n",
      " 3      2        \n"
     ]
    }
   ],
   "source": [
    "expression=a*x**2+b*x+c\n",
    "result=integrate(expression,x)\n",
    "print(\"Expression is: \")\n",
    "pprint(expression)\n",
    "print(\"Integration of the eq is: \")\n",
    "pprint(result)"
   ]
  },
  {
   "cell_type": "code",
   "execution_count": 52,
   "id": "9da8d8fa",
   "metadata": {},
   "outputs": [
    {
     "name": "stdout",
     "output_type": "stream",
     "text": [
      "Expression is: \n",
      " 3\n",
      "x \n",
      "Integration of the eq is: \n",
      " 4\n",
      "x \n",
      "──\n",
      "4 \n"
     ]
    }
   ],
   "source": [
    "expression=x**3\n",
    "result=integrate(expression,x)\n",
    "print(\"Expression is: \")\n",
    "pprint(expression)\n",
    "print(\"Integration of the eq is: \")\n",
    "pprint(result)"
   ]
  },
  {
   "cell_type": "code",
   "execution_count": null,
   "id": "6813d700",
   "metadata": {},
   "outputs": [],
   "source": []
  }
 ],
 "metadata": {
  "kernelspec": {
   "display_name": "Python 3 (ipykernel)",
   "language": "python",
   "name": "python3"
  },
  "language_info": {
   "codemirror_mode": {
    "name": "ipython",
    "version": 3
   },
   "file_extension": ".py",
   "mimetype": "text/x-python",
   "name": "python",
   "nbconvert_exporter": "python",
   "pygments_lexer": "ipython3",
   "version": "3.11.4"
  }
 },
 "nbformat": 4,
 "nbformat_minor": 5
}
